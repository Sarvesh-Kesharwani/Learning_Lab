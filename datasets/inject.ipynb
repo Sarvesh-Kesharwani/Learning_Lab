{
 "cells": [
  {
   "cell_type": "markdown",
   "id": "87d37b4d",
   "metadata": {},
   "source": [
    "Source: https://www.geeksforgeeks.org/machine-learning/dataset-for-linear-regression/"
   ]
  },
  {
   "cell_type": "code",
   "execution_count": 2,
   "id": "5b896d65",
   "metadata": {},
   "outputs": [
    {
     "name": "stderr",
     "output_type": "stream",
     "text": [
      "d:\\Github Projects\\Lab\\.venv\\Lib\\site-packages\\tqdm\\auto.py:21: TqdmWarning: IProgress not found. Please update jupyter and ipywidgets. See https://ipywidgets.readthedocs.io/en/stable/user_install.html\n",
      "  from .autonotebook import tqdm as notebook_tqdm\n"
     ]
    },
    {
     "name": "stdout",
     "output_type": "stream",
     "text": [
      "Path to dataset files: C:\\Users\\SARVESH KESHARWANI\\.cache\\kagglehub\\datasets\\spittman1248\\cdc-data-nutrition-physical-activity-obesity\\versions\\1\n",
      "Dataset files copied to current directory.\n"
     ]
    }
   ],
   "source": [
    "import kagglehub\n",
    "import shutil\n",
    "import os\n",
    "\n",
    "# Download latest version\n",
    "path = kagglehub.dataset_download(\"spittman1248/cdc-data-nutrition-physical-activity-obesity\")\n",
    "\n",
    "print(\"Path to dataset files:\", path)\n",
    "\n",
    "# List files in the downloaded dataset directory\n",
    "dataset_files = os.listdir(path)\n",
    "for file in dataset_files:\n",
    "    src_file = os.path.join(path, file)\n",
    "    dst_file = os.path.join('.', file)\n",
    "    if os.path.isfile(src_file):\n",
    "        shutil.copy(src_file, dst_file)\n",
    "\n",
    "print(\"Dataset files copied to current directory.\")"
   ]
  },
  {
   "cell_type": "code",
   "execution_count": null,
   "id": "950cc72c",
   "metadata": {},
   "outputs": [],
   "source": []
  },
  {
   "cell_type": "code",
   "execution_count": null,
   "id": "9bacf440",
   "metadata": {},
   "outputs": [],
   "source": []
  },
  {
   "cell_type": "code",
   "execution_count": null,
   "id": "1e3d065c",
   "metadata": {},
   "outputs": [],
   "source": []
  },
  {
   "cell_type": "code",
   "execution_count": null,
   "id": "6939a2c1",
   "metadata": {},
   "outputs": [],
   "source": []
  }
 ],
 "metadata": {
  "kernelspec": {
   "display_name": ".venv (3.13.4)",
   "language": "python",
   "name": "python3"
  },
  "language_info": {
   "codemirror_mode": {
    "name": "ipython",
    "version": 3
   },
   "file_extension": ".py",
   "mimetype": "text/x-python",
   "name": "python",
   "nbconvert_exporter": "python",
   "pygments_lexer": "ipython3",
   "version": "3.13.4"
  }
 },
 "nbformat": 4,
 "nbformat_minor": 5
}
