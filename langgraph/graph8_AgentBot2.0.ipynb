{
 "cells": [
  {
   "cell_type": "code",
   "execution_count": 11,
   "id": "d2418004",
   "metadata": {},
   "outputs": [],
   "source": [
    "import os\n",
    "from typing import TypedDict, List, Union\n",
    "from langgraph.graph import StateGraph, START, END\n",
    "from langchain_core.messages import HumanMessage, AIMessage\n",
    "from langchain_openai import ChatOpenAI\n",
    "\n",
    "from dotenv import load_dotenv\n"
   ]
  },
  {
   "cell_type": "code",
   "execution_count": 12,
   "id": "dd76c291",
   "metadata": {},
   "outputs": [
    {
     "data": {
      "text/plain": [
       "True"
      ]
     },
     "execution_count": 12,
     "metadata": {},
     "output_type": "execute_result"
    }
   ],
   "source": [
    "load_dotenv()"
   ]
  },
  {
   "cell_type": "code",
   "execution_count": 16,
   "id": "540041ea",
   "metadata": {},
   "outputs": [],
   "source": [
    "class AgentState(TypedDict):\n",
    "    messages: List[Union[HumanMessage, AIMessage]]\n",
    "\n",
    "\n",
    "llm = ChatOpenAI(model='gpt-4o')\n",
    "\n",
    "def process(state: AgentState) -> AgentState:\n",
    "    \"\"\"this node will solve the request you input\"\"\"\n",
    "\n",
    "    response = llm.invoke(state['messages'])\n",
    "    state['messages'].append(AIMessage(content=response.content))\n",
    "    print(f'\\nAI: {response.content}')\n",
    "    print('CURRENT STATE: ', state['messages'])\n",
    "\n",
    "    return state"
   ]
  },
  {
   "cell_type": "code",
   "execution_count": 17,
   "id": "eed36c87",
   "metadata": {},
   "outputs": [],
   "source": [
    "graph = StateGraph(AgentState)\n",
    "graph.add_node('process', process)\n",
    "graph.add_edge(START, 'process')\n",
    "graph.add_edge('process', END)\n",
    "agent = graph.compile()\n"
   ]
  },
  {
   "cell_type": "code",
   "execution_count": 18,
   "id": "9e126792",
   "metadata": {},
   "outputs": [
    {
     "name": "stdout",
     "output_type": "stream",
     "text": [
      "\n",
      "AI: Of course! If you have something specific you'd like to test, such as a concept, a piece of code, or a question, feel free to share and I'll do my best to assist you.\n",
      "CURRENT STATE:  [HumanMessage(content='test', additional_kwargs={}, response_metadata={}), AIMessage(content=\"Of course! If you have something specific you'd like to test, such as a concept, a piece of code, or a question, feel free to share and I'll do my best to assist you.\", additional_kwargs={}, response_metadata={})]\n",
      "\n",
      "AI: As of my last update, there is no widely recognized figure named Sarvesh Kesharwani. It is possible that he may be a private individual or someone not prominent in publicly available sources. If you have more context or information about who this person might be, I could try to help further. Keep in mind that for privacy reasons, detailed personal information about private individuals is typically not available online.\n",
      "CURRENT STATE:  [HumanMessage(content='test', additional_kwargs={}, response_metadata={}), AIMessage(content=\"Of course! If you have something specific you'd like to test, such as a concept, a piece of code, or a question, feel free to share and I'll do my best to assist you.\", additional_kwargs={}, response_metadata={}), HumanMessage(content='who is sarvesh kesharwani', additional_kwargs={}, response_metadata={}), AIMessage(content='As of my last update, there is no widely recognized figure named Sarvesh Kesharwani. It is possible that he may be a private individual or someone not prominent in publicly available sources. If you have more context or information about who this person might be, I could try to help further. Keep in mind that for privacy reasons, detailed personal information about private individuals is typically not available online.', additional_kwargs={}, response_metadata={})]\n",
      "\n",
      "AI: If you have any other questions or need further assistance, feel free to ask!\n",
      "CURRENT STATE:  [HumanMessage(content='test', additional_kwargs={}, response_metadata={}), AIMessage(content=\"Of course! If you have something specific you'd like to test, such as a concept, a piece of code, or a question, feel free to share and I'll do my best to assist you.\", additional_kwargs={}, response_metadata={}), HumanMessage(content='who is sarvesh kesharwani', additional_kwargs={}, response_metadata={}), AIMessage(content='As of my last update, there is no widely recognized figure named Sarvesh Kesharwani. It is possible that he may be a private individual or someone not prominent in publicly available sources. If you have more context or information about who this person might be, I could try to help further. Keep in mind that for privacy reasons, detailed personal information about private individuals is typically not available online.', additional_kwargs={}, response_metadata={}), HumanMessage(content='ok', additional_kwargs={}, response_metadata={}), AIMessage(content='If you have any other questions or need further assistance, feel free to ask!', additional_kwargs={}, response_metadata={})]\n",
      "\n",
      "AI: It looks like you didn't include a message. If there's anything you'd like to discuss or ask, feel free to type it out!\n",
      "CURRENT STATE:  [HumanMessage(content='test', additional_kwargs={}, response_metadata={}), AIMessage(content=\"Of course! If you have something specific you'd like to test, such as a concept, a piece of code, or a question, feel free to share and I'll do my best to assist you.\", additional_kwargs={}, response_metadata={}), HumanMessage(content='who is sarvesh kesharwani', additional_kwargs={}, response_metadata={}), AIMessage(content='As of my last update, there is no widely recognized figure named Sarvesh Kesharwani. It is possible that he may be a private individual or someone not prominent in publicly available sources. If you have more context or information about who this person might be, I could try to help further. Keep in mind that for privacy reasons, detailed personal information about private individuals is typically not available online.', additional_kwargs={}, response_metadata={}), HumanMessage(content='ok', additional_kwargs={}, response_metadata={}), AIMessage(content='If you have any other questions or need further assistance, feel free to ask!', additional_kwargs={}, response_metadata={}), HumanMessage(content='', additional_kwargs={}, response_metadata={}), AIMessage(content=\"It looks like you didn't include a message. If there's anything you'd like to discuss or ask, feel free to type it out!\", additional_kwargs={}, response_metadata={})]\n"
     ]
    }
   ],
   "source": [
    "conversation_history = []\n",
    "\n",
    "while user_input != 'exit':\n",
    "    conversation_history.append(HumanMessage(content=user_input))\n",
    "    result = agent.invoke({'messages': conversation_history})\n",
    "    conversation_history = result['messages'] \n",
    "    user_input = input('enter: ')"
   ]
  },
  {
   "cell_type": "code",
   "execution_count": null,
   "id": "31e97adc",
   "metadata": {},
   "outputs": [],
   "source": [
    "while open(r'logging.txt', 'w') as log_file:\n"
   ]
  },
  {
   "cell_type": "code",
   "execution_count": null,
   "id": "2d2122f3",
   "metadata": {},
   "outputs": [],
   "source": []
  },
  {
   "cell_type": "code",
   "execution_count": null,
   "id": "e39a646e",
   "metadata": {},
   "outputs": [],
   "source": []
  },
  {
   "cell_type": "code",
   "execution_count": null,
   "id": "47c1c25e",
   "metadata": {},
   "outputs": [],
   "source": []
  },
  {
   "cell_type": "code",
   "execution_count": null,
   "id": "6f8a869c",
   "metadata": {},
   "outputs": [],
   "source": []
  },
  {
   "cell_type": "code",
   "execution_count": null,
   "id": "49d6c4ef",
   "metadata": {},
   "outputs": [],
   "source": []
  }
 ],
 "metadata": {
  "kernelspec": {
   "display_name": "Python 3",
   "language": "python",
   "name": "python3"
  },
  "language_info": {
   "codemirror_mode": {
    "name": "ipython",
    "version": 3
   },
   "file_extension": ".py",
   "mimetype": "text/x-python",
   "name": "python",
   "nbconvert_exporter": "python",
   "pygments_lexer": "ipython3",
   "version": "3.13.2"
  }
 },
 "nbformat": 4,
 "nbformat_minor": 5
}
